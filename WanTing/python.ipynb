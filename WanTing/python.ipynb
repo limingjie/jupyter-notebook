{
 "cells": [
  {
   "cell_type": "markdown",
   "metadata": {},
   "source": [
    "# 复习知识点\n",
    "\n",
    "- 1\\. Python程序需要**描述数据**和**操作数据**。\n",
    "- 2\\. Python程序区分大小写\n",
    "- 3\\. 标识符的基本要求 - 驼峰法则(`camelCase`) / 匈牙利法则(`Hungarian notation`)\n",
    "  - `iPhone`\n",
    "  - `eBay`\n",
    "  - `johnSmith`\n",
    "- 4\\. 变量赋值及相应的类型(主要的基本数据类型)"
   ]
  },
  {
   "cell_type": "markdown",
   "metadata": {},
   "source": [
    "| 类型           | 典型值          |\n",
    "| -------------- | --------------- |\n",
    "| 布尔型(bool)   | `True`, `False` |\n",
    "| 整形(int)      | `1`, `100`      |\n",
    "| 浮点型(float)  | `3.1415926`     |\n",
    "| 复数(complex)  | `1+2j`          |\n",
    "| 字符串(string) | `'hello'`       |"
   ]
  },
  {
   "cell_type": "markdown",
   "metadata": {},
   "source": [
    "- 5\\. 注意`=`与`==`的区别\n",
    "  - 赋值运算符(`=`) - `a = 10` 把`10`赋给变量`a`。\n",
    "  - 比较运算符(`==`) - `a == 10` 比较`a`和`10`是否相等，相等返回`True`，不相等返回`False`。\n",
    "- 6\\. 特殊字符换行符`\\n`"
   ]
  },
  {
   "cell_type": "code",
   "execution_count": 1,
   "metadata": {},
   "outputs": [
    {
     "name": "stdout",
     "output_type": "stream",
     "text": [
      "hello\n",
      "world\n"
     ]
    }
   ],
   "source": [
    "print(\"hello\\nworld\")"
   ]
  },
  {
   "cell_type": "code",
   "execution_count": 2,
   "metadata": {},
   "outputs": [
    {
     "name": "stdout",
     "output_type": "stream",
     "text": [
      "hello\n",
      "\n"
     ]
    }
   ],
   "source": [
    "print(\"hello\", end=\"\\n\\n\")"
   ]
  },
  {
   "cell_type": "code",
   "execution_count": 3,
   "metadata": {},
   "outputs": [
    {
     "name": "stdout",
     "output_type": "stream",
     "text": [
      "a$$b$$c\n"
     ]
    }
   ],
   "source": [
    "print('a', 'b', 'c', sep='$$')"
   ]
  },
  {
   "cell_type": "code",
   "execution_count": 4,
   "metadata": {},
   "outputs": [
    {
     "name": "stdout",
     "output_type": "stream",
     "text": [
      "True, 1, 3.14, (1+2j), hello\n"
     ]
    }
   ],
   "source": [
    "print(True, 1, 3.14, 1+2j, 'hello', sep=', ')"
   ]
  },
  {
   "cell_type": "markdown",
   "metadata": {},
   "source": [
    "- 7\\. Python语法的缩进格式(严格的逻辑关系、语句块)\n",
    "\n",
    "  > Guido van Rossum 认为使用缩进进行分组非常优雅，并且对提高普通 Python 程序的清晰度有很大贡献。 大多数人会在一段时间后学会喜欢这个功能。"
   ]
  },
  {
   "cell_type": "code",
   "execution_count": 5,
   "metadata": {},
   "outputs": [
    {
     "name": "stdout",
     "output_type": "stream",
     "text": [
      "0\n",
      "1\n",
      "1\n",
      "2\n",
      "3\n",
      "5\n",
      "8\n"
     ]
    }
   ],
   "source": [
    "a, b = 0, 1\n",
    "while a < 10:\n",
    "    print(a)\n",
    "    a, b = b, a+b"
   ]
  },
  {
   "cell_type": "markdown",
   "metadata": {},
   "source": [
    "- 8\\. 输入内置函数`input()`的使用、返回值。"
   ]
  },
  {
   "cell_type": "code",
   "execution_count": 6,
   "metadata": {},
   "outputs": [
    {
     "name": "stdout",
     "output_type": "stream",
     "text": [
      "20\n"
     ]
    }
   ],
   "source": [
    "s = input('输入你的年龄:')\n",
    "print(s)"
   ]
  },
  {
   "cell_type": "markdown",
   "metadata": {},
   "source": [
    "- 9\\. 格式化输出`print()`的应用，包括宽度、小数点后位数等。"
   ]
  },
  {
   "cell_type": "code",
   "execution_count": 7,
   "metadata": {},
   "outputs": [
    {
     "name": "stdout",
     "output_type": "stream",
     "text": [
      "1        10        20        30\n",
      "----+----|----+----|----+----|\n",
      "                     3.1415927\n",
      "3.1415927                     \n",
      "     1        10        20        30\n",
      "     ----+----|----+----|----+----|\n",
      "Pi =                      3.1415927\n",
      "Pi = 3.1415927                     \n"
     ]
    }
   ],
   "source": [
    "print('1        10        20        30')\n",
    "print('----+----|----+----|----+----|')\n",
    "print(f'{3.1415926535897932384626:30.8}')\n",
    "print(f'{3.1415926535897932384626:<30.8}')\n",
    "print('     1        10        20        30')\n",
    "print('     ----+----|----+----|----+----|')\n",
    "print('Pi = {:30.8}'.format(3.1415926535897932384626))\n",
    "print('Pi = {:<30.8}'.format(3.1415926535897932384626))"
   ]
  },
  {
   "cell_type": "markdown",
   "metadata": {},
   "source": [
    "- 10\\. 各种运算符\n",
    "  - `+` - 数值的运算、字符串、列表等的拼接\n",
    "  - `*` - 数值的运算、字符串、列表等的重复\n",
    "  - `/` - 除法\n",
    "  - `//` - 整除\n",
    "  - `%` - 取余\n",
    "  - `in` - 字符串、列表、元组、集合、字典等成员资格的判断\n",
    "  - `+=`, `-=`, `*=`, `/=`, `//=`, `%=` - 扩展的赋值运算符"
   ]
  },
  {
   "cell_type": "code",
   "execution_count": 8,
   "metadata": {},
   "outputs": [
    {
     "name": "stdout",
     "output_type": "stream",
     "text": [
      "1001230\n",
      "Hello World!\n",
      "[1, 3, 7, 5, 7, 9, 11]\n",
      "(1, 3, 7, 5, 7, 9, 11)\n"
     ]
    }
   ],
   "source": [
    "# `+` - 数值的运算、字符串、列表等的拼接\n",
    "print(1231+999999)                # 整数相加\n",
    "print('Hello' + ' ' + 'World!')   # 字符串拼接\n",
    "print([1, 3, 7] + [5, 7, 9, 11])  # 列表拼接\n",
    "print((1, 3, 7) + (5, 7, 9, 11))  # 元组拼接"
   ]
  },
  {
   "cell_type": "code",
   "execution_count": 9,
   "metadata": {},
   "outputs": [
    {
     "name": "stdout",
     "output_type": "stream",
     "text": [
      "369963\n",
      "哈哈哈哈哈哈哈\n",
      "[1, 2, 3, 1, 2, 3, 1, 2, 3, 1, 2, 3, 1, 2, 3]\n",
      "[[1, 2, 3], [1, 2, 3], [1, 2, 3], [1, 2, 3], [1, 2, 3]]\n",
      "(1, True, 'Good', 1, True, 'Good', 1, True, 'Good')\n",
      "((1, True, 'Good'), (1, True, 'Good'), (1, True, 'Good'))\n",
      "('One', 'One', 'One')\n"
     ]
    }
   ],
   "source": [
    "# `*` - 数值的运算、字符串、列表等的重复\n",
    "print(123321 * 3)                # 整数相乘\n",
    "print('哈' * 7)                  # 字符串重复\n",
    "print([1, 2, 3] * 5)             # 列表重复\n",
    "print([[1, 2, 3]] * 5)           # 嵌套列表重复\n",
    "print((1, True, \"Good\") * 3)     # 元组重复\n",
    "print(((1, True, \"Good\"),) * 3)  # 嵌套的元组重复\n",
    "print(('One',) * 3)              # 一个元素的元组重复"
   ]
  },
  {
   "cell_type": "code",
   "execution_count": 10,
   "metadata": {},
   "outputs": [
    {
     "name": "stdout",
     "output_type": "stream",
     "text": [
      "14.285714285714286, 14, 2\n"
     ]
    }
   ],
   "source": [
    "# `/` - 除法\n",
    "# `//` - 整除\n",
    "# `%` - 取余\n",
    "# 100 / 7 = 14 ... 2\n",
    "a = 100 / 7\n",
    "b = 100 // 7\n",
    "c = 100 % 7\n",
    "print(a, b, c, sep = ', ')"
   ]
  },
  {
   "cell_type": "code",
   "execution_count": 11,
   "metadata": {},
   "outputs": [
    {
     "name": "stdout",
     "output_type": "stream",
     "text": [
      "True, True, True, True, True, True, True\n"
     ]
    }
   ],
   "source": [
    "# `in` - 字符串、列表、元组、集合、字典等成员资格的判断\n",
    "a = 'a' in 'abc'    # 字符串\n",
    "b = 'lo' in 'hello' # 字符串\n",
    "c = 1 in [1, 2, 3]  # 列表\n",
    "d = 1 in (1, 2, 3)  # 元组\n",
    "e = 1 in {1, 2, 3}  # 集合\n",
    "f = 1 in {1: 'one', 2: 'two', 3: 'three'}              # 字典键\n",
    "g = 'one' in {1: 'one', 2: 'two', 3: 'three'}.values() # 字典值\n",
    "print(a, b, c, d, e, f, g, sep = ', ')"
   ]
  },
  {
   "cell_type": "code",
   "execution_count": 12,
   "metadata": {},
   "outputs": [
    {
     "name": "stdout",
     "output_type": "stream",
     "text": [
      "100 + 10 -> 110 110\n",
      "100 // 7 -> 14 14\n"
     ]
    }
   ],
   "source": [
    "# `+=`, `-=`, `*=`, `/=`, `//=`, `%=` - 扩展的赋值运算符\n",
    "x = y = 100\n",
    "x = x + 10\n",
    "y += 10\n",
    "print('100 + 10 ->', x, y)\n",
    "\n",
    "m = n = 100\n",
    "m = m // 7\n",
    "n //= 7\n",
    "print('100 // 7 ->', m, n)"
   ]
  },
  {
   "cell_type": "markdown",
   "metadata": {},
   "source": [
    "- 11\\. 内置函数"
   ]
  },
  {
   "cell_type": "markdown",
   "metadata": {},
   "source": [
    "| 函数                            | 用途                                                                                                                                   |\n",
    "| ------------------------------- | -------------------------------------------------------------------------------------------------------------------------------------- |\n",
    "| `pow(base, exp)`                | base ^ exp                                                                                                                             |\n",
    "| `len(s)`                        | 返回对象的长度（元素个数）。实参可以是序列（如 string、bytes、tuple、list 或 range 等）或集合（如 dictionary、set 或 frozen set 等）。 |\n",
    "| `eval(expression)`              | 表达式解析参数 expression 并作为 Python 表达式进行求值。                                                                               |\n",
    "| `sum(iterable, start = 0)`      | 从 start 开始自左向右对 iterable 的项求和并返回总计值。 iterable 的项通常为数字，而 start 值则不允许为字符串。                         |\n",
    "| `int(x, base=10)`               | 返回一个基于数字或字符串 x 构造的整数对象，或者在未给出参数时返回 0。                                                                  |\n",
    "| `float(x)`                      | 返回从数字或字符串 x 生成的浮点数。                                                                                                    |\n",
    "| `str(object='')`                | 返回一个 str 版本的 object 。                                                                                                          |\n",
    "| `list([iterable])`              | 可以用多种方式构建列表                                                                                                                 |\n",
    "| `tuple([iterable])`             | 可以用多种方式构建元组                                                                                                                 |\n",
    "| `set([iterable])`               | 返回一个新的 set 或 frozenset 对象，其元素来自于 iterable。                                                                            |\n",
    "| `dict()`                        | 返回一个新的字典，基于可选的位置参数和可能为空的关键字参数集来初始化。                                                                 |\n",
    "| `zip(*iterables, strict=False)` | 在多个迭代器上并行迭代，从每个迭代器返回一个数据项组成元组。                                                                           |\n",
    "| `enumerate(iterable, start=0)`  | 返回一个枚举对象。iterable 必须是一个序列，或 iterator，或其他支持迭代的对象。                                                         |"
   ]
  },
  {
   "cell_type": "code",
   "execution_count": 13,
   "metadata": {},
   "outputs": [
    {
     "name": "stdout",
     "output_type": "stream",
     "text": [
      "100, 2, 2\n"
     ]
    }
   ],
   "source": [
    "a = pow(10, 2)\n",
    "b = pow(10, 2) % 7\n",
    "c = pow(10, 2, 7)\n",
    "print(a, b, c, sep = ', ')"
   ]
  },
  {
   "cell_type": "code",
   "execution_count": 14,
   "metadata": {},
   "outputs": [
    {
     "name": "stdout",
     "output_type": "stream",
     "text": [
      "3, 3, 3, 3, 2, 3, 2\n"
     ]
    }
   ],
   "source": [
    "a = len('abc')                           # 字符串\n",
    "b = len([1, 2, 3])                       # 列表\n",
    "c = len((1, 2, 3))                       # 元组\n",
    "d = len({1, 2, 3})                       # 集合\n",
    "e = len([(1, 2, 3), ('foo', 'bar')])     # 元组的列表\n",
    "f = len([(1, 2, 3), ('foo', 'bar')][0])  # 元组的列表的第0个元素\n",
    "g = len([(1, 2, 3), ('foo', 'bar')][1])  # 元组的列表的第1个元素\n",
    "print(a, b, c, d, e, f, g, sep=', ')"
   ]
  },
  {
   "cell_type": "code",
   "execution_count": 15,
   "metadata": {},
   "outputs": [
    {
     "name": "stdout",
     "output_type": "stream",
     "text": [
      "100, 3.1415926, 314.15926\n"
     ]
    }
   ],
   "source": [
    "x = eval('100')\n",
    "y = eval('3.1415926')\n",
    "z = eval('x * y')\n",
    "print(x, y, z, sep = ', ')"
   ]
  },
  {
   "cell_type": "code",
   "execution_count": 16,
   "metadata": {},
   "outputs": [
    {
     "name": "stdout",
     "output_type": "stream",
     "text": [
      "6, 6, 6, 6, 6\n"
     ]
    }
   ],
   "source": [
    "a = sum((1, 2, 3))  # 元组\n",
    "b = sum([1, 2, 3])  # 列表\n",
    "c = sum({1, 2, 3})  # 集合\n",
    "d = sum({1: 'one', 2: 'two', 3: 'three'})         # 字典键\n",
    "e = sum({'one': 1, 'two':2,'three': 3}.values())  # 字典值\n",
    "print(a, b, c, d, e, sep = ', ')"
   ]
  },
  {
   "cell_type": "code",
   "execution_count": 17,
   "metadata": {},
   "outputs": [
    {
     "name": "stdout",
     "output_type": "stream",
     "text": [
      "[0, 1, 2, 3, 4, 5, 6, 7, 8, 9]\n",
      "[1, 2, 3]\n",
      "(1, 2, 3)\n",
      "{1, 2, 3}\n",
      "[1, 2, 3]\n",
      "['one', 'two', 'three']\n"
     ]
    }
   ],
   "source": [
    "print(list(range(10)))\n",
    "print(list({1, 2, 3}))\n",
    "print(tuple([1, 2, 3]))\n",
    "print(set((1, 2, 3)))\n",
    "\n",
    "d = {1: 'one', 2: 'two', 3: 'three'}\n",
    "print(list(d))\n",
    "print(list(d.values()))"
   ]
  },
  {
   "cell_type": "code",
   "execution_count": 18,
   "metadata": {},
   "outputs": [
    {
     "name": "stdout",
     "output_type": "stream",
     "text": [
      "{'one': 1, 'two': 2, 'three': 3}\n",
      "{'one': 1, 'two': 2, 'three': 3}\n",
      "{'one': 1, 'two': 2, 'three': 3}\n",
      "{'two': 2, 'one': 1, 'three': 3}\n",
      "{'three': 3, 'one': 1, 'two': 2}\n",
      "{'one': 1, 'three': 3, 'two': 2}\n"
     ]
    }
   ],
   "source": [
    "# 构建字典\n",
    "a = dict(one=1, two=2, three=3)\n",
    "b = {'one': 1, 'two': 2, 'three': 3}\n",
    "c = dict(zip(['one', 'two', 'three'], [1, 2, 3]))\n",
    "d = dict([('two', 2), ('one', 1), ('three', 3)])\n",
    "e = dict({'three': 3, 'one': 1, 'two': 2})\n",
    "f = dict({'one': 1, 'three': 3}, two=2)\n",
    "print(a, b, c, d, e, f, sep='\\n')"
   ]
  },
  {
   "cell_type": "code",
   "execution_count": 19,
   "metadata": {},
   "outputs": [
    {
     "name": "stdout",
     "output_type": "stream",
     "text": [
      "[(1, 'one'), (2, 'two'), (3, 'three')]\n",
      "[(0, 'one'), (1, 'two'), (2, 'three')]\n",
      "[(1, 'one'), (2, 'two'), (3, 'three')]\n"
     ]
    }
   ],
   "source": [
    "a = list(zip([1, 2, 3], ['one', 'two', 'three']))\n",
    "b = list(enumerate(['one', 'two', 'three']))\n",
    "c = list(enumerate(['one', 'two', 'three'], 1))\n",
    "print(a, b, c, sep = '\\n')"
   ]
  },
  {
   "cell_type": "markdown",
   "metadata": {},
   "source": [
    "- 12\\. 字符串的正向反向索引、切片（左闭右开）的应用"
   ]
  },
  {
   "cell_type": "markdown",
   "metadata": {},
   "source": [
    "| Index from front |   0   |   1   |   2   |   3   |   4   |   5   |   6   |   7   |   8   |   9   |  10   |  11   |\n",
    "| ---------------: | :---: | :---: | :---: | :---: | :---: | :---: | :---: | :---: | :---: | :---: | :---: | :---: |\n",
    "|  Index from back |  -12  |  -11  |  -10  |  -9   |  -8   |  -7   |  -6   |  -5   |  -4   |  -3   |  -2   |  -1   |\n",
    "|           String |   a   |   b   |   c   |   d   |   e   |   f   |   g   |   h   |   i   |   j   |   k   |   l   |"
   ]
  },
  {
   "cell_type": "code",
   "execution_count": 20,
   "metadata": {},
   "outputs": [
    {
     "name": "stdout",
     "output_type": "stream",
     "text": [
      "d\n",
      "j\n",
      "defg\n",
      "defghij\n",
      "cdefghij\n",
      "defghijkl\n",
      "abc\n",
      "abcdefghijkl\n",
      "dfhj\n",
      "dfhj\n",
      "lkjihgfedcba\n",
      "ljhfdb\n"
     ]
    }
   ],
   "source": [
    "a = 'abcdefghijkl'[3]\n",
    "b = 'abcdefghijkl'[-3]\n",
    "c = 'abcdefghijkl'[3:7]\n",
    "d = 'abcdefghijkl'[3:-2]\n",
    "e = 'abcdefghijkl'[-10:-2]\n",
    "f = 'abcdefghijkl'[3:]\n",
    "g = 'abcdefghijkl'[:3]\n",
    "h = 'abcdefghijkl'[:]\n",
    "i = 'abcdefghijkl'[3:10:2]\n",
    "j = 'abcdefghijkl'[3:-2:2]\n",
    "k = 'abcdefghijkl'[::-1]\n",
    "l = 'abcdefghijkl'[::-2]  # 从开始到结尾，- 代表倒序，步长2\n",
    "print(a, b, c, d, e, f, g, h, i, j, k, l, sep = '\\n')"
   ]
  },
  {
   "cell_type": "markdown",
   "metadata": {},
   "source": [
    "- 13\\. 字符串方法 - `split()`（只要求能读懂程序）\n",
    "\n",
    "  `str.split(sep=None, maxsplit=- 1)`\n",
    "  > 返回一个由字符串内单词组成的列表，使用 sep 作为分隔字符串。 如果给出了 maxsplit，则最多进行 maxsplit 次拆分（因此，列表最多会有 maxsplit+1 个元素）。 如果 maxsplit 未指定或为 -1，则不限制拆分次数（进行所有可能的拆分）。"
   ]
  },
  {
   "cell_type": "code",
   "execution_count": 21,
   "metadata": {},
   "outputs": [
    {
     "name": "stdout",
     "output_type": "stream",
     "text": [
      "['the', 'quick', 'brown', 'fox', 'jumps', 'over', 'the', 'lazy', 'dog']\n",
      "['the quick br', 'wn f', 'x jumps ', 'ver the lazy d', 'g']\n",
      "['敏捷的棕色狐狸跳过了懒狗']\n",
      "['敏捷', '棕色狐狸跳过了懒狗']\n"
     ]
    }
   ],
   "source": [
    "strEng = 'the quick brown fox jumps over the lazy dog'\n",
    "strChn = '敏捷的棕色狐狸跳过了懒狗'\n",
    "a = strEng.split()\n",
    "b = strEng.split(sep = 'o')\n",
    "c = strChn.split()\n",
    "d = strChn.split(sep = '的')\n",
    "print(a, b, c, d, sep = '\\n')"
   ]
  },
  {
   "cell_type": "markdown",
   "metadata": {},
   "source": [
    "- 14\\. 程序控制结构\n",
    "  - 分支结构（单分支、双分支、多分支）\n",
    "  - 循环结构的相关语法\n",
    "  - 应用\n",
    "    - `if ... elif ... else`\n",
    "    - `for`\n",
    "    - `while`\n",
    "    - `break` & `continue`\n",
    "    - `for ... else` / `while ... else`"
   ]
  },
  {
   "cell_type": "code",
   "execution_count": 22,
   "metadata": {},
   "outputs": [
    {
     "name": "stdout",
     "output_type": "stream",
     "text": [
      "-3 is a Negative number\n",
      "-2 is a Negative number\n",
      "-1 is a Negative number\n",
      " 0 is a Zero\n",
      " 1 is a Positive number\n",
      " 2 is a Positive number\n"
     ]
    }
   ],
   "source": [
    "for num in range(-3, 3, 1):\n",
    "    print('{:2} is a '.format(num), end = '')\n",
    "    if num > 0:\n",
    "        print(\"Positive number\")\n",
    "    elif num == 0:\n",
    "        print(\"Zero\")\n",
    "    else:\n",
    "        print(\"Negative number\")"
   ]
  },
  {
   "cell_type": "code",
   "execution_count": 23,
   "metadata": {},
   "outputs": [
    {
     "name": "stdout",
     "output_type": "stream",
     "text": [
      "2 is a prime number\n",
      "3 is a prime number\n",
      "4 equals 2 * 2\n",
      "5 is a prime number\n",
      "6 equals 2 * 3\n",
      "7 is a prime number\n",
      "8 equals 2 * 4\n",
      "9 equals 3 * 3\n"
     ]
    }
   ],
   "source": [
    "for n in range(2, 10):\n",
    "    for x in range(2, n):\n",
    "        if n % x == 0:\n",
    "            print(n, 'equals', x, '*', n // x)\n",
    "            break\n",
    "    else:\n",
    "        # loop fell through without finding a factor\n",
    "        print(n, 'is a prime number')"
   ]
  },
  {
   "cell_type": "code",
   "execution_count": 24,
   "metadata": {},
   "outputs": [
    {
     "name": "stdout",
     "output_type": "stream",
     "text": [
      "I like pop\n",
      "I like rock\n",
      "I like jazz\n"
     ]
    }
   ],
   "source": [
    "genres = ['pop', 'rock', 'jazz']\n",
    "for genre in genres:\n",
    "    print(\"I like\", genre)"
   ]
  },
  {
   "cell_type": "markdown",
   "metadata": {},
   "source": [
    "- `break` 的工作方式\n",
    "\n",
    "  ![break](./images/break.png \"`break` 的工作方式\")"
   ]
  },
  {
   "cell_type": "code",
   "execution_count": 25,
   "metadata": {},
   "outputs": [
    {
     "name": "stdout",
     "output_type": "stream",
     "text": [
      "s\n",
      "t\n",
      "r\n",
      "The end\n"
     ]
    }
   ],
   "source": [
    "for val in \"string\":\n",
    "    if val == \"i\":\n",
    "        break\n",
    "    print(val)\n",
    "\n",
    "print(\"The end\")"
   ]
  },
  {
   "cell_type": "markdown",
   "metadata": {},
   "source": [
    "- `continue` 的工作方式\n",
    "\n",
    "  ![continue](./images/continue.png \"`continue` 的工作方式\")"
   ]
  },
  {
   "cell_type": "code",
   "execution_count": 26,
   "metadata": {},
   "outputs": [
    {
     "name": "stdout",
     "output_type": "stream",
     "text": [
      "s\n",
      "t\n",
      "r\n",
      "n\n",
      "g\n",
      "The end\n"
     ]
    }
   ],
   "source": [
    "for val in \"string\":\n",
    "    if val == \"i\":\n",
    "        continue\n",
    "    print(val)\n",
    "\n",
    "print(\"The end\")"
   ]
  },
  {
   "cell_type": "code",
   "execution_count": 27,
   "metadata": {},
   "outputs": [
    {
     "name": "stdout",
     "output_type": "stream",
     "text": [
      "0\n",
      "1\n",
      "2\n",
      "3\n",
      "13\n",
      "23\n",
      "WoW\n"
     ]
    }
   ],
   "source": [
    "a = 0\n",
    "while a < 30:\n",
    "    print(a)\n",
    "    if a < 3:\n",
    "        a += 1\n",
    "    elif a < 30:\n",
    "        a += 10\n",
    "    else:\n",
    "        break\n",
    "else:\n",
    "    print('WoW')"
   ]
  },
  {
   "cell_type": "markdown",
   "metadata": {},
   "source": [
    "- 15\\. 布尔表达式的使用"
   ]
  },
  {
   "cell_type": "markdown",
   "metadata": {},
   "source": [
    "| 运算     | 含意           |\n",
    "| -------- | -------------- |\n",
    "| `<`      | 严格小于       |\n",
    "| `<=`     | 小于或等于     |\n",
    "| `>`      | 严格大于       |\n",
    "| `>=`     | 大于或等于     |\n",
    "| `==`     | 等于           |\n",
    "| `!=`     | 不等于         |\n",
    "| `is`     | 对象标识       |\n",
    "| `is not` | 否定的对象标识 |"
   ]
  },
  {
   "cell_type": "markdown",
   "metadata": {},
   "source": [
    "| 运算      | 结果                                 |\n",
    "| --------- | ------------------------------------ |\n",
    "| `x or y`  | if x is false, then y, else x        |\n",
    "| `x and y` | if x is false, then x, else y        |\n",
    "| `not x`   | if x is false, then True, else False |"
   ]
  },
  {
   "cell_type": "markdown",
   "metadata": {},
   "source": [
    "- 16\\. 循环语句中可迭代的结构：range、字符串、列表、元组、集合、字典、文件\n",
    "- 17\\. 列表操作的方法\n",
    "  - append()\n",
    "  - pop()\n",
    "- 18\\. 列表的排序方法`sort()`以及内置函数`sorted()`的应用场合、语法、排序规则的指定（lambda函数）、返回值等\n",
    "- 19\\. 元组的非正规写法\n",
    "  - 多变量赋值\n",
    "  - 两变量值交换\n",
    "- 20\\. 元组的基本要求和操作\n",
    "  - 利用列表里面嵌套元组完成相应应用描述，并能进行操作\n",
    "- 21\\. 集合运算符：`&`, `|`, `-`（只要求能读懂程序）\n",
    "- 22\\. 集合操作的方法：`add()`\n",
    "- 23\\. 集合的去除重复工作\n",
    "- 24\\. 字典添加新的键值对\n",
    "- 25\\. 字典中键、值、键值对的获取 `keys()`, `values()`, `items()`\n",
    "  - 对字典元素的迭代默认情况是对键的迭代\n",
    "  - 能够用字典描述特定键值对类型的应用并操作\n",
    "- 26\\. 字典的`get()`方法的作用及使用\n",
    "- 27\\. 函数定义及简单参数传递\n",
    "- 28\\. 使用pip工具查看当前已安装的Python扩展库的完整命令`pip list`，安装扩展库命令`pip install`库名。\n",
    "- 29\\. 文件打开模式：`r`, `w`\n",
    "- 30\\. 读文本文件的方法：`read()`, `readlines()`\n",
    "  - 对文件对象的迭代默认情况是`readlines()`\n",
    "- 31\\. 写文本文件的方法：`writelines()`\n",
    "- 32\\. CSV库，json库读写文件操作的基本语法\n",
    "- 33\\. 上下文管理器的应用：`with open() as f:`\n",
    "- 34\\. 第三方库random的方法：`randint()`\n",
    "- 35\\. 可视化：绘制饼图、直方图、多种折线图、散点图"
   ]
  }
 ],
 "metadata": {
  "interpreter": {
   "hash": "aee8b7b246df8f9039afb4144a1f6fd8d2ca17a180786b69acc140d282b71a49"
  },
  "kernelspec": {
   "display_name": "Python 3.9.9 64-bit",
   "language": "python",
   "name": "python3"
  },
  "language_info": {
   "codemirror_mode": {
    "name": "ipython",
    "version": 3
   },
   "file_extension": ".py",
   "mimetype": "text/x-python",
   "name": "python",
   "nbconvert_exporter": "python",
   "pygments_lexer": "ipython3",
   "version": "3.9.9"
  },
  "orig_nbformat": 4
 },
 "nbformat": 4,
 "nbformat_minor": 2
}
