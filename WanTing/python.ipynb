{
 "cells": [
  {
   "cell_type": "markdown",
   "metadata": {},
   "source": [
    "# 复习知识点\n",
    "\n",
    "- 1\\. Python程序需要**描述数据**和**操作数据**。\n",
    "- 2\\. Python程序区分大小写\n",
    "- 3\\. 标识符的基本要求 - 驼峰法则(`camelCase`) / 匈牙利法则(`Hungarian notation`)\n",
    "  - `iPhone`\n",
    "  - `eBay`\n",
    "  - `johnSmith`\n",
    "- 4\\. 变量赋值及相应的类型(主要的基本数据类型)"
   ]
  },
  {
   "cell_type": "markdown",
   "metadata": {},
   "source": [
    "| 类型           | 典型值          |\n",
    "| -------------- | --------------- |\n",
    "| 布尔型(bool)   | `True`, `False` |\n",
    "| 整形(int)      | `1`, `100`      |\n",
    "| 浮点型(float)  | `3.1415926`     |\n",
    "| 复数(complex)  | `1+2j`          |\n",
    "| 字符串(string) | `'hello'`       |"
   ]
  },
  {
   "cell_type": "markdown",
   "metadata": {},
   "source": [
    "- 5\\. 注意`=`与`==`的区别\n",
    "  - 赋值运算符(`=`) - `a = 10` 把`10`赋给变量`a`。\n",
    "  - 比较运算符(`==`) - `a == 10` 比较`a`和`10`是否相等，相等返回`True`，不相等返回`False`。\n",
    "- 6\\. 特殊字符换行符`\\n`"
   ]
  },
  {
   "cell_type": "code",
   "execution_count": 1,
   "metadata": {},
   "outputs": [
    {
     "name": "stdout",
     "output_type": "stream",
     "text": [
      "hello\n",
      "world\n"
     ]
    }
   ],
   "source": [
    "print(\"hello\\nworld\")"
   ]
  },
  {
   "cell_type": "code",
   "execution_count": 2,
   "metadata": {},
   "outputs": [
    {
     "name": "stdout",
     "output_type": "stream",
     "text": [
      "hello\n",
      "\n"
     ]
    }
   ],
   "source": [
    "print(\"hello\", end=\"\\n\\n\")"
   ]
  },
  {
   "cell_type": "code",
   "execution_count": 3,
   "metadata": {},
   "outputs": [
    {
     "name": "stdout",
     "output_type": "stream",
     "text": [
      "a$$b$$c\n"
     ]
    }
   ],
   "source": [
    "print('a', 'b', 'c', sep='$$')"
   ]
  },
  {
   "cell_type": "code",
   "execution_count": 4,
   "metadata": {},
   "outputs": [
    {
     "name": "stdout",
     "output_type": "stream",
     "text": [
      "True, 1, 3.14, (1+2j), hello\n"
     ]
    }
   ],
   "source": [
    "print(True, 1, 3.14, 1+2j, 'hello', sep=', ')"
   ]
  },
  {
   "cell_type": "markdown",
   "metadata": {},
   "source": [
    "- 7\\. Python语法的缩进格式(严格的逻辑关系、语句块)\n",
    "\n",
    "  > Guido van Rossum 认为使用缩进进行分组非常优雅，并且对提高普通 Python 程序的清晰度有很大贡献。 大多数人会在一段时间后学会喜欢这个功能。"
   ]
  },
  {
   "cell_type": "code",
   "execution_count": 5,
   "metadata": {},
   "outputs": [
    {
     "name": "stdout",
     "output_type": "stream",
     "text": [
      "0\n",
      "1\n",
      "1\n",
      "2\n",
      "3\n",
      "5\n",
      "8\n"
     ]
    }
   ],
   "source": [
    "a, b = 0, 1\n",
    "while a < 10:\n",
    "    print(a)\n",
    "    a, b = b, a+b"
   ]
  },
  {
   "cell_type": "markdown",
   "metadata": {},
   "source": [
    "- 8\\. 输入内置函数`input()`的使用、返回值。"
   ]
  },
  {
   "cell_type": "code",
   "execution_count": 6,
   "metadata": {},
   "outputs": [
    {
     "name": "stdout",
     "output_type": "stream",
     "text": [
      "20\n"
     ]
    }
   ],
   "source": [
    "s = input('输入你的年龄:')\n",
    "print(s)"
   ]
  },
  {
   "cell_type": "markdown",
   "metadata": {},
   "source": [
    "- 9\\. 格式化输出`print()`的应用，包括宽度、小数点后位数等。"
   ]
  },
  {
   "cell_type": "code",
   "execution_count": 7,
   "metadata": {},
   "outputs": [
    {
     "name": "stdout",
     "output_type": "stream",
     "text": [
      "1        10        20        30\n",
      "----+----|----+----|----+----|\n",
      "                     3.1415927\n",
      "3.1415927                     \n",
      "     1        10        20        30\n",
      "     ----+----|----+----|----+----|\n",
      "Pi =                      3.1415927\n",
      "Pi = 3.1415927                     \n"
     ]
    }
   ],
   "source": [
    "print('1        10        20        30')\n",
    "print('----+----|----+----|----+----|')\n",
    "print(f'{3.1415926535897932384626:30.8}')\n",
    "print(f'{3.1415926535897932384626:<30.8}')\n",
    "print('     1        10        20        30')\n",
    "print('     ----+----|----+----|----+----|')\n",
    "print('Pi = {:30.8}'.format(3.1415926535897932384626))\n",
    "print('Pi = {:<30.8}'.format(3.1415926535897932384626))"
   ]
  },
  {
   "cell_type": "markdown",
   "metadata": {},
   "source": [
    "- 10\\. 各种运算符\n",
    "  - `+` - 数值的运算、字符串、列表等的拼接\n",
    "  - `*` - 数值的运算、字符串、列表等的重复\n",
    "  - `/` - 除法\n",
    "  - `//` - 整除\n",
    "  - `%` - 取余\n",
    "  - `in` - 字符串、列表、元组、集合、字典等成员资格的判断\n",
    "  - `+=`, `-=`, `*=`, `/=`, `//=`, `%=` - 扩展的赋值运算符"
   ]
  },
  {
   "cell_type": "code",
   "execution_count": 8,
   "metadata": {},
   "outputs": [
    {
     "name": "stdout",
     "output_type": "stream",
     "text": [
      "1001230\n",
      "Hello World!\n",
      "[1, 3, 7, 5, 7, 9, 11]\n",
      "(1, 3, 7, 5, 7, 9, 11)\n"
     ]
    }
   ],
   "source": [
    "# `+` - 数值的运算、字符串、列表等的拼接\n",
    "print(1231+999999)                # 整数相加\n",
    "print('Hello' + ' ' + 'World!')   # 字符串拼接\n",
    "print([1, 3, 7] + [5, 7, 9, 11])  # 列表拼接\n",
    "print((1, 3, 7) + (5, 7, 9, 11))  # 元组拼接"
   ]
  },
  {
   "cell_type": "code",
   "execution_count": 9,
   "metadata": {},
   "outputs": [
    {
     "name": "stdout",
     "output_type": "stream",
     "text": [
      "369963\n",
      "哈哈哈哈哈哈哈\n",
      "[1, 2, 3, 1, 2, 3, 1, 2, 3, 1, 2, 3, 1, 2, 3]\n",
      "[[1, 2, 3], [1, 2, 3], [1, 2, 3], [1, 2, 3], [1, 2, 3]]\n",
      "(1, True, 'Good', 1, True, 'Good', 1, True, 'Good')\n",
      "((1, True, 'Good'), (1, True, 'Good'), (1, True, 'Good'))\n",
      "('One', 'One', 'One')\n"
     ]
    }
   ],
   "source": [
    "# `*` - 数值的运算、字符串、列表等的重复\n",
    "print(123321 * 3)                # 整数相乘\n",
    "print('哈' * 7)                  # 字符串重复\n",
    "print([1, 2, 3] * 5)             # 列表重复\n",
    "print([[1, 2, 3]] * 5)           # 嵌套列表重复\n",
    "print((1, True, \"Good\") * 3)     # 元组重复\n",
    "print(((1, True, \"Good\"),) * 3)  # 嵌套的元组重复\n",
    "print(('One',) * 3)              # 一个元素的元组重复"
   ]
  },
  {
   "cell_type": "code",
   "execution_count": 10,
   "metadata": {},
   "outputs": [
    {
     "name": "stdout",
     "output_type": "stream",
     "text": [
      "14.285714285714286\n",
      "14\n",
      "2\n"
     ]
    }
   ],
   "source": [
    "# `/` - 除法\n",
    "# `//` - 整除\n",
    "# `%` - 取余\n",
    "# 100 / 7 = 14 ... 2\n",
    "print(100 / 7)\n",
    "print(100 // 7)\n",
    "print(100 % 7)"
   ]
  },
  {
   "cell_type": "code",
   "execution_count": 11,
   "metadata": {},
   "outputs": [
    {
     "name": "stdout",
     "output_type": "stream",
     "text": [
      "True\n",
      "True\n",
      "True\n",
      "True\n",
      "True\n",
      "True\n",
      "True\n"
     ]
    }
   ],
   "source": [
    "# `in` - 字符串、列表、元组、集合、字典等成员资格的判断\n",
    "print('a' in 'abc')    # 字符串\n",
    "print('lo' in 'hello') # 字符串\n",
    "print(1 in [1, 2, 3])  # 列表\n",
    "print(1 in (1, 2, 3))  # 元组\n",
    "print(1 in {1, 2, 3})  # 集合\n",
    "print(1 in {1: 'one', 2: 'two', 3: 'three'})              # 字典键\n",
    "print('one' in {1: 'one', 2: 'two', 3: 'three'}.values()) # 字典值"
   ]
  },
  {
   "cell_type": "code",
   "execution_count": 12,
   "metadata": {},
   "outputs": [
    {
     "name": "stdout",
     "output_type": "stream",
     "text": [
      "100 + 10 -> 110 110\n",
      "100 // 7 -> 14 14\n"
     ]
    }
   ],
   "source": [
    "# `+=`, `-=`, `*=`, `/=`, `//=`, `%=` - 扩展的赋值运算符\n",
    "x = y = 100\n",
    "x = x + 10\n",
    "y += 10\n",
    "print('100 + 10 ->', x, y)\n",
    "\n",
    "m = n = 100\n",
    "m = m // 7\n",
    "n //= 7\n",
    "print('100 // 7 ->', m, n)"
   ]
  }
 ],
 "metadata": {
  "interpreter": {
   "hash": "aee8b7b246df8f9039afb4144a1f6fd8d2ca17a180786b69acc140d282b71a49"
  },
  "kernelspec": {
   "display_name": "Python 3.9.9 64-bit",
   "language": "python",
   "name": "python3"
  },
  "language_info": {
   "codemirror_mode": {
    "name": "ipython",
    "version": 3
   },
   "file_extension": ".py",
   "mimetype": "text/x-python",
   "name": "python",
   "nbconvert_exporter": "python",
   "pygments_lexer": "ipython3",
   "version": "3.9.9"
  },
  "orig_nbformat": 4
 },
 "nbformat": 4,
 "nbformat_minor": 2
}
