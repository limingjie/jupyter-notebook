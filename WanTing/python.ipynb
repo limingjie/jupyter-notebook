{
 "cells": [
  {
   "cell_type": "markdown",
   "metadata": {},
   "source": [
    "# Python 复习知识点\n",
    "\n",
    "## 知识点\n",
    "\n",
    "- 1\\. Python程序需要**描述数据**和**操作数据**。\n",
    "- 2\\. Python程序区分大小写\n",
    "- 3\\. 标识符的基本要求 - 驼峰法则(`camelCase`) / 匈牙利法则(`Hungarian notation`)\n",
    "  - `iPhone`\n",
    "  - `eBay`\n",
    "  - `johnSmith`\n",
    "- 4\\. 变量赋值及相应的类型(主要的基本数据类型)"
   ]
  },
  {
   "cell_type": "markdown",
   "metadata": {},
   "source": [
    "| 类型           | 典型值          |\n",
    "| -------------- | --------------- |\n",
    "| 布尔型(bool)   | `True`, `False` |\n",
    "| 整形(int)      | `1`, `100`      |\n",
    "| 浮点型(float)  | `3.1415926`     |\n",
    "| 复数(complex)  | `1+2j`          |\n",
    "| 字符串(string) | `'hello'`       |"
   ]
  },
  {
   "cell_type": "markdown",
   "metadata": {},
   "source": [
    "- 5\\. 注意`=`与`==`的区别\n",
    "  - 赋值运算符(`=`) - `a = 10` 把`10`赋给变量`a`。\n",
    "  - 比较运算符(`==`) - `a == 10` 比较`a`和`10`是否相等，相等返回`True`，不相等返回`False`。\n",
    "- 6\\. 特殊字符换行符`\\n`"
   ]
  },
  {
   "cell_type": "code",
   "execution_count": 1,
   "metadata": {},
   "outputs": [
    {
     "name": "stdout",
     "output_type": "stream",
     "text": [
      "hello\n",
      "world\n"
     ]
    }
   ],
   "source": [
    "print(\"hello\\nworld\")"
   ]
  },
  {
   "cell_type": "code",
   "execution_count": 2,
   "metadata": {},
   "outputs": [
    {
     "name": "stdout",
     "output_type": "stream",
     "text": [
      "hello\n",
      "\n"
     ]
    }
   ],
   "source": [
    "print(\"hello\", end=\"\\n\\n\")"
   ]
  },
  {
   "cell_type": "code",
   "execution_count": 3,
   "metadata": {},
   "outputs": [
    {
     "name": "stdout",
     "output_type": "stream",
     "text": [
      "a$$b$$c\n"
     ]
    }
   ],
   "source": [
    "print('a', 'b', 'c', sep='$$')"
   ]
  },
  {
   "cell_type": "code",
   "execution_count": 4,
   "metadata": {},
   "outputs": [
    {
     "name": "stdout",
     "output_type": "stream",
     "text": [
      "True, 1, 3.14, (1+2j), hello\n"
     ]
    }
   ],
   "source": [
    "print(True, 1, 3.14, 1+2j, 'hello', sep=', ')"
   ]
  },
  {
   "cell_type": "markdown",
   "metadata": {},
   "source": [
    "- 7\\. Python语法的缩进格式(严格的逻辑关系、语句块)\n",
    "\n",
    "  > Guido van Rossum 认为使用缩进进行分组非常优雅，并且对提高普通 Python 程序的清晰度有很大贡献。 大多数人会在一段时间后学会喜欢这个功能。"
   ]
  },
  {
   "cell_type": "code",
   "execution_count": 5,
   "metadata": {},
   "outputs": [
    {
     "name": "stdout",
     "output_type": "stream",
     "text": [
      "0\n",
      "1\n",
      "1\n",
      "2\n",
      "3\n",
      "5\n",
      "8\n"
     ]
    }
   ],
   "source": [
    "a, b = 0, 1\n",
    "while a < 10:\n",
    "    print(a)\n",
    "    a, b = b, a+b"
   ]
  },
  {
   "cell_type": "markdown",
   "metadata": {},
   "source": [
    "- 8\\. 输入内置函数`input()`的使用、返回值。"
   ]
  },
  {
   "cell_type": "code",
   "execution_count": 6,
   "metadata": {},
   "outputs": [
    {
     "name": "stdout",
     "output_type": "stream",
     "text": [
      "20\n"
     ]
    }
   ],
   "source": [
    "s = input('输入你的年龄:')\n",
    "print(s)"
   ]
  },
  {
   "cell_type": "markdown",
   "metadata": {},
   "source": [
    "- 9\\. 格式化输出`print()`的应用，包括宽度、小数点后位数等。"
   ]
  },
  {
   "cell_type": "code",
   "execution_count": 7,
   "metadata": {},
   "outputs": [
    {
     "name": "stdout",
     "output_type": "stream",
     "text": [
      "1        10        20        30\n",
      "----+----|----+----|----+----|\n",
      "                     3.1415927\n",
      "3.1415927                     \n",
      "     1        10        20        30\n",
      "     ----+----|----+----|----+----|\n",
      "Pi =                      3.1415927\n",
      "Pi = 3.1415927                     \n"
     ]
    }
   ],
   "source": [
    "print('1        10        20        30')\n",
    "print('----+----|----+----|----+----|')\n",
    "print(f'{3.1415926535897932384626:30.8}')\n",
    "print(f'{3.1415926535897932384626:<30.8}')\n",
    "print('     1        10        20        30')\n",
    "print('     ----+----|----+----|----+----|')\n",
    "print('Pi = {:30.8}'.format(3.1415926535897932384626))\n",
    "print('Pi = {:<30.8}'.format(3.1415926535897932384626))"
   ]
  },
  {
   "cell_type": "markdown",
   "metadata": {},
   "source": [
    "- 10\\. 各种运算符\n",
    "  - `+` - 数值的运算、字符串、列表等的拼接\n",
    "  - `*` - 数值的运算、字符串、列表等的重复\n",
    "  - `/` - 除法\n",
    "  - `//` - 整除\n",
    "  - `%` - 取余\n",
    "  - `in` - 字符串、列表、元组、集合、字典等成员资格的判断\n",
    "  - `+=`, `-=`, `*=`, `/=`, `//=`, `%=` - 扩展的赋值运算符"
   ]
  },
  {
   "cell_type": "code",
   "execution_count": 8,
   "metadata": {},
   "outputs": [
    {
     "name": "stdout",
     "output_type": "stream",
     "text": [
      "1001230\n",
      "Hello World!\n",
      "[1, 3, 7, 5, 7, 9, 11]\n",
      "(1, 3, 7, 5, 7, 9, 11)\n"
     ]
    }
   ],
   "source": [
    "# `+` - 数值的运算、字符串、列表等的拼接\n",
    "print(1231+999999)                # 整数相加\n",
    "print('Hello' + ' ' + 'World!')   # 字符串拼接\n",
    "print([1, 3, 7] + [5, 7, 9, 11])  # 列表拼接\n",
    "print((1, 3, 7) + (5, 7, 9, 11))  # 元组拼接"
   ]
  },
  {
   "cell_type": "code",
   "execution_count": 9,
   "metadata": {},
   "outputs": [
    {
     "name": "stdout",
     "output_type": "stream",
     "text": [
      "369963\n",
      "哈哈哈哈哈哈哈\n",
      "[1, 2, 3, 1, 2, 3, 1, 2, 3, 1, 2, 3, 1, 2, 3]\n",
      "[[1, 2, 3], [1, 2, 3], [1, 2, 3], [1, 2, 3], [1, 2, 3]]\n",
      "(1, True, 'Good', 1, True, 'Good', 1, True, 'Good')\n",
      "((1, True, 'Good'), (1, True, 'Good'), (1, True, 'Good'))\n",
      "('One', 'One', 'One')\n"
     ]
    }
   ],
   "source": [
    "# `*` - 数值的运算、字符串、列表等的重复\n",
    "print(123321 * 3)                # 整数相乘\n",
    "print('哈' * 7)                  # 字符串重复\n",
    "print([1, 2, 3] * 5)             # 列表重复\n",
    "print([[1, 2, 3]] * 5)           # 嵌套列表重复\n",
    "print((1, True, \"Good\") * 3)     # 元组重复\n",
    "print(((1, True, \"Good\"),) * 3)  # 嵌套的元组重复\n",
    "print(('One',) * 3)              # 一个元素的元组重复"
   ]
  },
  {
   "cell_type": "code",
   "execution_count": 10,
   "metadata": {},
   "outputs": [
    {
     "name": "stdout",
     "output_type": "stream",
     "text": [
      "14.285714285714286, 14, 2\n"
     ]
    }
   ],
   "source": [
    "# `/` - 除法\n",
    "# `//` - 整除\n",
    "# `%` - 取余\n",
    "# 100 / 7 = 14 ... 2\n",
    "a = 100 / 7\n",
    "b = 100 // 7\n",
    "c = 100 % 7\n",
    "print(a, b, c, sep = ', ')"
   ]
  },
  {
   "cell_type": "code",
   "execution_count": 11,
   "metadata": {},
   "outputs": [
    {
     "name": "stdout",
     "output_type": "stream",
     "text": [
      "True, True, True, True, True, True, True\n"
     ]
    }
   ],
   "source": [
    "# `in` - 字符串、列表、元组、集合、字典等成员资格的判断\n",
    "a = 'a' in 'abc'    # 字符串\n",
    "b = 'lo' in 'hello' # 字符串\n",
    "c = 1 in [1, 2, 3]  # 列表\n",
    "d = 1 in (1, 2, 3)  # 元组\n",
    "e = 1 in {1, 2, 3}  # 集合\n",
    "f = 1 in {1: 'one', 2: 'two', 3: 'three'}              # 字典键\n",
    "g = 'one' in {1: 'one', 2: 'two', 3: 'three'}.values() # 字典值\n",
    "print(a, b, c, d, e, f, g, sep = ', ')"
   ]
  },
  {
   "cell_type": "code",
   "execution_count": 12,
   "metadata": {},
   "outputs": [
    {
     "name": "stdout",
     "output_type": "stream",
     "text": [
      "100 + 10 -> 110 110\n",
      "100 // 7 -> 14 14\n"
     ]
    }
   ],
   "source": [
    "# `+=`, `-=`, `*=`, `/=`, `//=`, `%=` - 扩展的赋值运算符\n",
    "x = y = 100\n",
    "x = x + 10\n",
    "y += 10\n",
    "print('100 + 10 ->', x, y)\n",
    "\n",
    "m = n = 100\n",
    "m = m // 7\n",
    "n //= 7\n",
    "print('100 // 7 ->', m, n)"
   ]
  },
  {
   "cell_type": "markdown",
   "metadata": {},
   "source": [
    "- 11\\. 内置函数"
   ]
  },
  {
   "cell_type": "markdown",
   "metadata": {},
   "source": [
    "| 函数                            | 用途                                                                                                                                   |\n",
    "| ------------------------------- | -------------------------------------------------------------------------------------------------------------------------------------- |\n",
    "| `pow(base, exp)`                | base ^ exp                                                                                                                             |\n",
    "| `len(s)`                        | 返回对象的长度（元素个数）。实参可以是序列（如 string、bytes、tuple、list 或 range 等）或集合（如 dictionary、set 或 frozen set 等）。 |\n",
    "| `eval(expression)`              | 表达式解析参数 expression 并作为 Python 表达式进行求值。                                                                               |\n",
    "| `sum(iterable, start = 0)`      | 从 start 开始自左向右对 iterable 的项求和并返回总计值。 iterable 的项通常为数字，而 start 值则不允许为字符串。                         |\n",
    "| `int(x, base=10)`               | 返回一个基于数字或字符串 x 构造的整数对象，或者在未给出参数时返回 0。                                                                  |\n",
    "| `float(x)`                      | 返回从数字或字符串 x 生成的浮点数。                                                                                                    |\n",
    "| `str(object='')`                | 返回一个 str 版本的 object 。                                                                                                          |\n",
    "| `list([iterable])`              | 可以用多种方式构建列表                                                                                                                 |\n",
    "| `tuple([iterable])`             | 可以用多种方式构建元组                                                                                                                 |\n",
    "| `set([iterable])`               | 返回一个新的 set 或 frozenset 对象，其元素来自于 iterable。                                                                            |\n",
    "| `dict()`                        | 返回一个新的字典，基于可选的位置参数和可能为空的关键字参数集来初始化。                                                                 |\n",
    "| `zip(*iterables, strict=False)` | 在多个迭代器上并行迭代，从每个迭代器返回一个数据项组成元组。                                                                           |\n",
    "| `enumerate(iterable, start=0)`  | 返回一个枚举对象。iterable 必须是一个序列，或 iterator，或其他支持迭代的对象。                                                         |"
   ]
  },
  {
   "cell_type": "code",
   "execution_count": 13,
   "metadata": {},
   "outputs": [
    {
     "name": "stdout",
     "output_type": "stream",
     "text": [
      "100, 2, 2\n"
     ]
    }
   ],
   "source": [
    "a = pow(10, 2)\n",
    "b = pow(10, 2) % 7\n",
    "c = pow(10, 2, 7)\n",
    "print(a, b, c, sep = ', ')"
   ]
  },
  {
   "cell_type": "code",
   "execution_count": 14,
   "metadata": {},
   "outputs": [
    {
     "name": "stdout",
     "output_type": "stream",
     "text": [
      "3, 3, 3, 3, 2, 3, 2\n"
     ]
    }
   ],
   "source": [
    "a = len('abc')                           # 字符串\n",
    "b = len([1, 2, 3])                       # 列表\n",
    "c = len((1, 2, 3))                       # 元组\n",
    "d = len({1, 2, 3})                       # 集合\n",
    "e = len([(1, 2, 3), ('foo', 'bar')])     # 元组的列表\n",
    "f = len([(1, 2, 3), ('foo', 'bar')][0])  # 元组的列表的第0个元素\n",
    "g = len([(1, 2, 3), ('foo', 'bar')][1])  # 元组的列表的第1个元素\n",
    "print(a, b, c, d, e, f, g, sep=', ')"
   ]
  },
  {
   "cell_type": "code",
   "execution_count": 15,
   "metadata": {},
   "outputs": [
    {
     "name": "stdout",
     "output_type": "stream",
     "text": [
      "100, 3.1415926, 314.15926\n"
     ]
    }
   ],
   "source": [
    "x = eval('100')\n",
    "y = eval('3.1415926')\n",
    "z = eval('x * y')\n",
    "print(x, y, z, sep = ', ')"
   ]
  },
  {
   "cell_type": "code",
   "execution_count": 16,
   "metadata": {},
   "outputs": [
    {
     "name": "stdout",
     "output_type": "stream",
     "text": [
      "6, 6, 6, 6, 6\n"
     ]
    }
   ],
   "source": [
    "a = sum((1, 2, 3))  # 元组\n",
    "b = sum([1, 2, 3])  # 列表\n",
    "c = sum({1, 2, 3})  # 集合\n",
    "d = sum({1: 'one', 2: 'two', 3: 'three'})         # 字典键\n",
    "e = sum({'one': 1, 'two':2,'three': 3}.values())  # 字典值\n",
    "print(a, b, c, d, e, sep = ', ')"
   ]
  },
  {
   "cell_type": "code",
   "execution_count": 17,
   "metadata": {},
   "outputs": [
    {
     "name": "stdout",
     "output_type": "stream",
     "text": [
      "[0, 1, 2, 3, 4, 5, 6, 7, 8, 9]\n",
      "[1, 2, 3]\n",
      "(1, 2, 3)\n",
      "{1, 2, 3}\n",
      "[1, 2, 3]\n",
      "['one', 'two', 'three']\n"
     ]
    }
   ],
   "source": [
    "print(list(range(10)))\n",
    "print(list({1, 2, 3}))\n",
    "print(tuple([1, 2, 3]))\n",
    "print(set((1, 2, 3)))\n",
    "\n",
    "d = {1: 'one', 2: 'two', 3: 'three'}\n",
    "print(list(d))\n",
    "print(list(d.values()))"
   ]
  },
  {
   "cell_type": "code",
   "execution_count": 18,
   "metadata": {},
   "outputs": [
    {
     "name": "stdout",
     "output_type": "stream",
     "text": [
      "{'one': 1, 'two': 2, 'three': 3}\n",
      "{'one': 1, 'two': 2, 'three': 3}\n",
      "{'one': 1, 'two': 2, 'three': 3}\n",
      "{'two': 2, 'one': 1, 'three': 3}\n",
      "{'three': 3, 'one': 1, 'two': 2}\n",
      "{'one': 1, 'three': 3, 'two': 2}\n"
     ]
    }
   ],
   "source": [
    "# 构建字典\n",
    "a = dict(one=1, two=2, three=3)\n",
    "b = {'one': 1, 'two': 2, 'three': 3}\n",
    "c = dict(zip(['one', 'two', 'three'], [1, 2, 3]))\n",
    "d = dict([('two', 2), ('one', 1), ('three', 3)])\n",
    "e = dict({'three': 3, 'one': 1, 'two': 2})\n",
    "f = dict({'one': 1, 'three': 3}, two=2)\n",
    "print(a, b, c, d, e, f, sep='\\n')"
   ]
  },
  {
   "cell_type": "code",
   "execution_count": 19,
   "metadata": {},
   "outputs": [
    {
     "name": "stdout",
     "output_type": "stream",
     "text": [
      "[(1, 'one'), (2, 'two'), (3, 'three')]\n",
      "[(0, 'one'), (1, 'two'), (2, 'three')]\n",
      "[(1, 'one'), (2, 'two'), (3, 'three')]\n"
     ]
    }
   ],
   "source": [
    "a = list(zip([1, 2, 3], ['one', 'two', 'three']))\n",
    "b = list(enumerate(['one', 'two', 'three']))\n",
    "c = list(enumerate(['one', 'two', 'three'], 1))\n",
    "print(a, b, c, sep = '\\n')"
   ]
  },
  {
   "cell_type": "markdown",
   "metadata": {},
   "source": [
    "- 12\\. 字符串的正向反向索引、切片（左闭右开）的应用"
   ]
  },
  {
   "cell_type": "markdown",
   "metadata": {},
   "source": [
    "| Index from front |   0   |   1   |   2   |   3   |   4   |   5   |   6   |   7   |   8   |   9   |  10   |  11   |\n",
    "| ---------------: | :---: | :---: | :---: | :---: | :---: | :---: | :---: | :---: | :---: | :---: | :---: | :---: |\n",
    "|  Index from back |  -12  |  -11  |  -10  |  -9   |  -8   |  -7   |  -6   |  -5   |  -4   |  -3   |  -2   |  -1   |\n",
    "|           String |   a   |   b   |   c   |   d   |   e   |   f   |   g   |   h   |   i   |   j   |   k   |   l   |"
   ]
  },
  {
   "cell_type": "code",
   "execution_count": 20,
   "metadata": {},
   "outputs": [
    {
     "name": "stdout",
     "output_type": "stream",
     "text": [
      "d\n",
      "j\n",
      "defg\n",
      "defghij\n",
      "cdefghij\n",
      "defghijkl\n",
      "abc\n",
      "abcdefghijkl\n",
      "dfhj\n",
      "dfhj\n",
      "lkjihgfedcba\n",
      "ljhfdb\n"
     ]
    }
   ],
   "source": [
    "a = 'abcdefghijkl'[3]\n",
    "b = 'abcdefghijkl'[-3]\n",
    "c = 'abcdefghijkl'[3:7]\n",
    "d = 'abcdefghijkl'[3:-2]\n",
    "e = 'abcdefghijkl'[-10:-2]\n",
    "f = 'abcdefghijkl'[3:]\n",
    "g = 'abcdefghijkl'[:3]\n",
    "h = 'abcdefghijkl'[:]\n",
    "i = 'abcdefghijkl'[3:10:2]\n",
    "j = 'abcdefghijkl'[3:-2:2]\n",
    "k = 'abcdefghijkl'[::-1]\n",
    "l = 'abcdefghijkl'[::-2]  # 从开始到结尾，- 代表倒序，步长2\n",
    "print(a, b, c, d, e, f, g, h, i, j, k, l, sep = '\\n')"
   ]
  },
  {
   "cell_type": "markdown",
   "metadata": {},
   "source": [
    "- 13\\. 字符串方法 - `split()`（只要求能读懂程序）\n",
    "\n",
    "  `str.split(sep=None, maxsplit=- 1)`\n",
    "  > 返回一个由字符串内单词组成的列表，使用 sep 作为分隔字符串。 如果给出了 maxsplit，则最多进行 maxsplit 次拆分（因此，列表最多会有 maxsplit+1 个元素）。 如果 maxsplit 未指定或为 -1，则不限制拆分次数（进行所有可能的拆分）。"
   ]
  },
  {
   "cell_type": "code",
   "execution_count": 21,
   "metadata": {},
   "outputs": [
    {
     "name": "stdout",
     "output_type": "stream",
     "text": [
      "['the', 'quick', 'brown', 'fox', 'jumps', 'over', 'the', 'lazy', 'dog']\n",
      "['the quick br', 'wn f', 'x jumps ', 'ver the lazy d', 'g']\n",
      "['敏捷的棕色狐狸跳过了懒狗']\n",
      "['敏捷', '棕色狐狸跳过了懒狗']\n"
     ]
    }
   ],
   "source": [
    "strEng = 'the quick brown fox jumps over the lazy dog'\n",
    "strChn = '敏捷的棕色狐狸跳过了懒狗'\n",
    "a = strEng.split()\n",
    "b = strEng.split(sep = 'o')\n",
    "c = strChn.split()\n",
    "d = strChn.split(sep = '的')\n",
    "print(a, b, c, d, sep = '\\n')"
   ]
  },
  {
   "cell_type": "markdown",
   "metadata": {},
   "source": [
    "- 14\\. 程序控制结构\n",
    "  - 分支结构（单分支、双分支、多分支）\n",
    "  - 循环结构的相关语法\n",
    "  - 应用\n",
    "    - `if ... elif ... else`\n",
    "    - `for`\n",
    "    - `while`\n",
    "    - `break` & `continue`\n",
    "    - `for ... else` / `while ... else`"
   ]
  },
  {
   "cell_type": "code",
   "execution_count": 22,
   "metadata": {},
   "outputs": [
    {
     "name": "stdout",
     "output_type": "stream",
     "text": [
      "-3 is a Negative number\n",
      "-2 is a Negative number\n",
      "-1 is a Negative number\n",
      " 0 is a Zero\n",
      " 1 is a Positive number\n",
      " 2 is a Positive number\n"
     ]
    }
   ],
   "source": [
    "for num in range(-3, 3, 1):\n",
    "    print('{:2} is a '.format(num), end = '')\n",
    "    if num > 0:\n",
    "        print(\"Positive number\")\n",
    "    elif num == 0:\n",
    "        print(\"Zero\")\n",
    "    else:\n",
    "        print(\"Negative number\")"
   ]
  },
  {
   "cell_type": "code",
   "execution_count": 23,
   "metadata": {},
   "outputs": [
    {
     "name": "stdout",
     "output_type": "stream",
     "text": [
      "2 is a prime number\n",
      "3 is a prime number\n",
      "4 equals 2 * 2\n",
      "5 is a prime number\n",
      "6 equals 2 * 3\n",
      "7 is a prime number\n",
      "8 equals 2 * 4\n",
      "9 equals 3 * 3\n"
     ]
    }
   ],
   "source": [
    "for n in range(2, 10):\n",
    "    for x in range(2, n):\n",
    "        if n % x == 0:\n",
    "            print(n, 'equals', x, '*', n // x)\n",
    "            break\n",
    "    else:\n",
    "        # loop fell through without finding a factor\n",
    "        print(n, 'is a prime number')"
   ]
  },
  {
   "cell_type": "code",
   "execution_count": 24,
   "metadata": {},
   "outputs": [
    {
     "name": "stdout",
     "output_type": "stream",
     "text": [
      "I like pop\n",
      "I like rock\n",
      "I like jazz\n"
     ]
    }
   ],
   "source": [
    "genres = ['pop', 'rock', 'jazz']\n",
    "for genre in genres:\n",
    "    print(\"I like\", genre)"
   ]
  },
  {
   "cell_type": "markdown",
   "metadata": {},
   "source": [
    "- `break` 的工作方式\n",
    "\n",
    "  ![break](./images/break.png \"`break` 的工作方式\")"
   ]
  },
  {
   "cell_type": "code",
   "execution_count": 25,
   "metadata": {},
   "outputs": [
    {
     "name": "stdout",
     "output_type": "stream",
     "text": [
      "s\n",
      "t\n",
      "r\n",
      "The end\n"
     ]
    }
   ],
   "source": [
    "for val in \"string\":\n",
    "    if val == \"i\":\n",
    "        break\n",
    "    print(val)\n",
    "\n",
    "print(\"The end\")"
   ]
  },
  {
   "cell_type": "markdown",
   "metadata": {},
   "source": [
    "- `continue` 的工作方式\n",
    "\n",
    "  ![continue](./images/continue.png \"`continue` 的工作方式\")"
   ]
  },
  {
   "cell_type": "code",
   "execution_count": 26,
   "metadata": {},
   "outputs": [
    {
     "name": "stdout",
     "output_type": "stream",
     "text": [
      "s\n",
      "t\n",
      "r\n",
      "n\n",
      "g\n",
      "The end\n"
     ]
    }
   ],
   "source": [
    "for val in \"string\":\n",
    "    if val == \"i\":\n",
    "        continue\n",
    "    print(val)\n",
    "\n",
    "print(\"The end\")"
   ]
  },
  {
   "cell_type": "code",
   "execution_count": 27,
   "metadata": {},
   "outputs": [
    {
     "name": "stdout",
     "output_type": "stream",
     "text": [
      "0\n",
      "1\n",
      "2\n",
      "3\n",
      "13\n",
      "23\n",
      "WoW\n"
     ]
    }
   ],
   "source": [
    "a = 0\n",
    "while a < 30:\n",
    "    print(a)\n",
    "    if a < 3:\n",
    "        a += 1\n",
    "    elif a < 30:\n",
    "        a += 10\n",
    "    else:\n",
    "        break\n",
    "else:\n",
    "    print('WoW')"
   ]
  },
  {
   "cell_type": "markdown",
   "metadata": {},
   "source": [
    "- 15\\. 布尔表达式的使用"
   ]
  },
  {
   "cell_type": "markdown",
   "metadata": {},
   "source": [
    "| 运算     | 含意           |\n",
    "| -------- | -------------- |\n",
    "| `<`      | 严格小于       |\n",
    "| `<=`     | 小于或等于     |\n",
    "| `>`      | 严格大于       |\n",
    "| `>=`     | 大于或等于     |\n",
    "| `==`     | 等于           |\n",
    "| `!=`     | 不等于         |\n",
    "| `is`     | 对象标识       |\n",
    "| `is not` | 否定的对象标识 |"
   ]
  },
  {
   "cell_type": "markdown",
   "metadata": {},
   "source": [
    "| 运算      | 结果                                 |\n",
    "| --------- | ------------------------------------ |\n",
    "| `x or y`  | if x is false, then y, else x        |\n",
    "| `x and y` | if x is false, then x, else y        |\n",
    "| `not x`   | if x is false, then True, else False |"
   ]
  },
  {
   "cell_type": "markdown",
   "metadata": {},
   "source": [
    "- 16\\. 循环语句中可迭代的结构：range、字符串、列表、元组、集合、字典、文件\n",
    "\n",
    "  - range 类型表示不可变的数字序列，通常用于在 for 循环中循环指定的次数。\n",
    "    ```python\n",
    "    range(stop)\n",
    "    range(start, stop[, step])\n",
    "    ```"
   ]
  },
  {
   "cell_type": "code",
   "execution_count": 28,
   "metadata": {},
   "outputs": [
    {
     "name": "stdout",
     "output_type": "stream",
     "text": [
      "[0, 1, 2, 3, 4]\n",
      "[1, 2, 3, 4]\n",
      "[0, 5, 10, 15, 20, 25]\n"
     ]
    }
   ],
   "source": [
    "print(list(range(5)))\n",
    "print(list(range(1, 5)))\n",
    "print(list(range(0, 30, 5)))"
   ]
  },
  {
   "cell_type": "code",
   "execution_count": 29,
   "metadata": {},
   "outputs": [
    {
     "name": "stdout",
     "output_type": "stream",
     "text": [
      "0 1 2 3 4 "
     ]
    }
   ],
   "source": [
    "for n in range(5):\n",
    "    print(n, end=' ')"
   ]
  },
  {
   "cell_type": "code",
   "execution_count": 30,
   "metadata": {},
   "outputs": [
    {
     "name": "stdout",
     "output_type": "stream",
     "text": [
      "s t r i n g "
     ]
    }
   ],
   "source": [
    "for c in 'string':\n",
    "    print(c, end = ' ')"
   ]
  },
  {
   "cell_type": "code",
   "execution_count": 31,
   "metadata": {},
   "outputs": [
    {
     "name": "stdout",
     "output_type": "stream",
     "text": [
      "one\n",
      "two\n",
      "three\n"
     ]
    }
   ],
   "source": [
    "for l in ['one', 'two', 'three']:\n",
    "    print(l)"
   ]
  },
  {
   "cell_type": "code",
   "execution_count": 32,
   "metadata": {},
   "outputs": [
    {
     "name": "stdout",
     "output_type": "stream",
     "text": [
      "1 one\n",
      "2 two\n",
      "3 three\n"
     ]
    }
   ],
   "source": [
    "for k, v in {1:'one', 2:'two', 3:'three'}.items():\n",
    "    print(k, v)"
   ]
  },
  {
   "cell_type": "markdown",
   "metadata": {},
   "source": [
    "- 17\\. 列表操作的方法\n",
    "  - `append(x)` - 在列表末尾添加一个元素。\n",
    "  - `pop([i])` - 删除列表中指定位置的元素，并返回被删除的元素。未指定位置时，a.pop() 删除并返回列表的最后一个元素。"
   ]
  },
  {
   "cell_type": "code",
   "execution_count": 33,
   "metadata": {},
   "outputs": [
    {
     "name": "stdout",
     "output_type": "stream",
     "text": [
      "['orange', 'apple', 'pear', 'banana', 'kiwi', 'apple', 'banana']\n",
      "['orange', 'apple', 'pear', 'banana', 'kiwi', 'apple', 'banana', 'mongo']\n",
      "['orange', 'apple', 'pear', 'apple', 'banana', 'mongo']\n",
      "['orange', 'apple', 'pear', 'apple', 'banana']\n"
     ]
    }
   ],
   "source": [
    "fruits = ['orange', 'apple', 'pear', 'banana', 'kiwi', 'apple', 'banana']\n",
    "print(fruits)\n",
    "fruits.append('mongo')  # 追加一个元素\n",
    "print(fruits)\n",
    "fruits.pop(3)  # 删除第五个元素 banana\n",
    "fruits.pop(3)  # 删除第五个元素 kiwi\n",
    "print(fruits)\n",
    "fruits.pop()   # 删除最后一个元素 mongo\n",
    "print(fruits)"
   ]
  },
  {
   "cell_type": "markdown",
   "metadata": {},
   "source": [
    "- 18\\. 列表的排序方法`sort()`以及内置函数`sorted()`的应用场合、语法、排序规则的指定（lambda函数）、返回值等"
   ]
  },
  {
   "cell_type": "code",
   "execution_count": 34,
   "metadata": {},
   "outputs": [
    {
     "name": "stdout",
     "output_type": "stream",
     "text": [
      "拓展1: 电影列表中的元素使用元组: (电影名 , 评分)，按评分排序并输出排名前三电影。\n",
      "[('扬名立万', 8.3), ('英雄儿女', 7.6), ('梅艳芳', 9.5), ('沙丘', 9.0), ('我和我的父辈', 8.9), ('白毛女', 7.3), ('长津湖', 9.8), ('007', 6.5), ('大嫂归来', 5.0)]\n",
      "[('007', 6.5), ('大嫂归来', 5.0), ('我和我的父辈', 8.9), ('扬名立万', 8.3), ('梅艳芳', 9.5), ('沙丘', 9.0), ('白毛女', 7.3), ('英雄儿女', 7.6), ('长津湖', 9.8)]\n",
      "[('长津湖', 9.8), ('梅艳芳', 9.5), ('沙丘', 9.0)]\n",
      "拓展2: 使用字典来存储上述信息:｛电影名:评分,……｝，按评分排序并输出排名前三电影。\n",
      "{'扬名立万': 8.3, '英雄儿女': 7.6, '梅艳芳': 9.5, '沙丘': 9.0, '我和我的父辈': 8.9, '白毛女': 7.3, '长津湖': 9.8, '007': 6.5, '大嫂归来': 5.0}\n",
      "['007', '大嫂归来', '我和我的父辈', '扬名立万', '梅艳芳', '沙丘', '白毛女', '英雄儿女', '长津湖']\n",
      "[('007', 6.5), ('大嫂归来', 5.0), ('我和我的父辈', 8.9), ('扬名立万', 8.3), ('梅艳芳', 9.5), ('沙丘', 9.0), ('白毛女', 7.3), ('英雄儿女', 7.6), ('长津湖', 9.8)]\n",
      "[('长津湖', 9.8), ('梅艳芳', 9.5), ('沙丘', 9.0)]\n"
     ]
    }
   ],
   "source": [
    "films = ['扬名立万', '英雄儿女', '梅艳芳', '沙丘', '我和我的父辈', '白毛女', '长津湖', '007', '大嫂归来']\n",
    "scores = [8.3, 7.6, 9.5, 9.0, 8.9, 7.3, 9.8, 6.5, 5.0]\n",
    "\n",
    "print(\"拓展1: 电影列表中的元素使用元组: (电影名 , 评分)，按评分排序并输出排名前三电影。\")\n",
    "\n",
    "# 元组\n",
    "filmRatingTuple = list(zip(films, scores))\n",
    "print(filmRatingTuple)\n",
    "\n",
    "# 用 sort() 排序\n",
    "filmRatingTuple.sort()\n",
    "print(filmRatingTuple)\n",
    "\n",
    "# 用 sort(key...) 排序\n",
    "filmRatingTuple.sort(key=lambda x: x[1], reverse=True)\n",
    "print(filmRatingTuple[0:3])\n",
    "\n",
    "print(\"拓展2: 使用字典来存储上述信息:｛电影名:评分,……｝，按评分排序并输出排名前三电影。\")\n",
    "\n",
    "filmRatingDict = dict(zip(films, scores))\n",
    "print(filmRatingDict)\n",
    "print(sorted(filmRatingDict))\n",
    "print(sorted(filmRatingDict.items()))\n",
    "print(sorted(filmRatingDict.items(), key = lambda x: -x[1])[0:3])"
   ]
  },
  {
   "cell_type": "markdown",
   "metadata": {},
   "source": [
    "- 19\\. 元组的非正规写法\n",
    "  - 多变量赋值\n",
    "  - 两变量值交换"
   ]
  },
  {
   "cell_type": "code",
   "execution_count": 35,
   "metadata": {},
   "outputs": [
    {
     "name": "stdout",
     "output_type": "stream",
     "text": [
      "1, 3, 5, 7, 9\n",
      "world hello\n"
     ]
    }
   ],
   "source": [
    "# 多变量赋值\n",
    "a, b, (c, d), e = 1, 3, (5, 7), 9\n",
    "print(a, b, c, d, e, sep = ', ')\n",
    "\n",
    "# 两变量值交换\n",
    "x, y = 'hello', 'world'\n",
    "x, y = y, x\n",
    "print(x, y)"
   ]
  },
  {
   "cell_type": "markdown",
   "metadata": {},
   "source": [
    "- 20\\. 元组的基本要求和操作\n",
    "  - 利用列表里面嵌套元组完成相应应用描述，并能进行操作\n",
    "- 21\\. 集合运算符：`&`, `|`, `-`（只要求能读懂程序）"
   ]
  },
  {
   "cell_type": "code",
   "execution_count": 36,
   "metadata": {},
   "outputs": [
    {
     "name": "stdout",
     "output_type": "stream",
     "text": [
      "{'Lady Gaga', 'Adele', 'Jay Zhou', 'Ed Sheeran', 'G.E.M', 'Justin Bieber'}\n",
      "{'Jay Zhou'}\n",
      "{'Lady Gaga', 'Adele'}\n"
     ]
    }
   ],
   "source": [
    "girls = {'Adele', 'Lady Gaga', 'G.E.M'}\n",
    "boys = {'Jay Zhou', 'Ed Sheeran', 'Justin Bieber'}\n",
    "chinese = {'G.E.M', 'Jay Zhou'}\n",
    "singers = girls | boys\n",
    "chineseBoys = chinese & boys\n",
    "foreignGirls = girls - chinese\n",
    "print(singers, chineseBoys, foreignGirls, sep = '\\n')"
   ]
  },
  {
   "cell_type": "markdown",
   "metadata": {},
   "source": [
    "- 22\\. 集合操作的方法：`add()`"
   ]
  },
  {
   "cell_type": "code",
   "execution_count": 37,
   "metadata": {},
   "outputs": [
    {
     "name": "stdout",
     "output_type": "stream",
     "text": [
      "{'G.E.M', 'Lady Gaga', 'Adele', 'WanTing'}\n"
     ]
    }
   ],
   "source": [
    "girls = {'Adele', 'Lady Gaga', 'G.E.M'}\n",
    "girls.add('WanTing')\n",
    "print(girls)"
   ]
  },
  {
   "cell_type": "markdown",
   "metadata": {},
   "source": [
    "- 23\\. 集合的去除重复工作"
   ]
  },
  {
   "cell_type": "code",
   "execution_count": 38,
   "metadata": {},
   "outputs": [
    {
     "name": "stdout",
     "output_type": "stream",
     "text": [
      "['e', 'w', 'r', ',', 'H', 'd', 'y', 'i', ' ', '!', 'g', 'l', 'm', 'o']\n",
      "['H', 'e', 'l', 'o', ' ', 'w', 'r', 'd', ',', 'm', 'y', 'g', 'i', '!']\n"
     ]
    }
   ],
   "source": [
    "l = list('Hello world, my girl!')\n",
    "\n",
    "# 顺序无关\n",
    "unique = list(set(l))\n",
    "print(unique)\n",
    "\n",
    "# 顺序有关\n",
    "unique = []\n",
    "seen = set()\n",
    "for e in l:\n",
    "    if e in seen:\n",
    "        continue\n",
    "    else:\n",
    "        unique.append(e)\n",
    "        seen.add(e)\n",
    "print(unique)"
   ]
  },
  {
   "cell_type": "markdown",
   "metadata": {},
   "source": [
    "- 24\\. 字典添加新的键值对"
   ]
  },
  {
   "cell_type": "code",
   "execution_count": 39,
   "metadata": {},
   "outputs": [
    {
     "name": "stdout",
     "output_type": "stream",
     "text": [
      "{'whale': 5, 'shark': 3}\n",
      "{'whale': 5, 'shark': 3, 'python': 9}\n",
      "{'whale': 5, 'shark': 3, 'python': 9, 'shrimp': 10000, 'kraken': 1, 'serpant': 2}\n"
     ]
    }
   ],
   "source": [
    "d = {'whale': 5, 'shark': 3}\n",
    "print(d)\n",
    "d['python'] = 9 # Add 1\n",
    "print(d)\n",
    "d.update({'shrimp': 10000, 'kraken': 1, 'serpant': 2}) # Add many\n",
    "print(d)"
   ]
  },
  {
   "cell_type": "markdown",
   "metadata": {},
   "source": [
    "- 25\\. 字典中键、值、键值对的获取 `keys()`, `values()`, `items()`\n",
    "  - 对字典元素的迭代默认情况是对键的迭代\n",
    "  - 能够用字典描述特定键值对类型的应用并操作"
   ]
  },
  {
   "cell_type": "code",
   "execution_count": 40,
   "metadata": {},
   "outputs": [
    {
     "name": "stdout",
     "output_type": "stream",
     "text": [
      "dict_keys(['whale', 'shark', 'python'])\n",
      "dict_values([5, 3, 19])\n",
      "dict_items([('whale', 5), ('shark', 3), ('python', 19)])\n",
      "whale\n",
      "shark\n",
      "python\n",
      "the number of whale  =  5\n",
      "the number of shark  =  3\n",
      "the number of python = 19\n"
     ]
    }
   ],
   "source": [
    "d = {'whale': 5, 'shark': 3, 'python': 19}\n",
    "print(d.keys())\n",
    "print(d.values())\n",
    "print(d.items())\n",
    "for k in d:\n",
    "    print(k)\n",
    "for k, v in d.items():\n",
    "    print('the number of {:<6} = {:>2}'.format(k, v))"
   ]
  },
  {
   "cell_type": "markdown",
   "metadata": {},
   "source": [
    "- 26\\. 字典的`get()`方法的作用及使用\n",
    "\n",
    "  `get(key[, default])`\n",
    "  > 如果 key 存在于字典中则返回 key 的值，否则返回 default。 如果 default 未给出则默认为 None，因而此方法绝不会引发 KeyError。"
   ]
  },
  {
   "cell_type": "code",
   "execution_count": 41,
   "metadata": {},
   "outputs": [
    {
     "name": "stdout",
     "output_type": "stream",
     "text": [
      "5\n",
      "5\n",
      "None\n",
      "999\n"
     ]
    }
   ],
   "source": [
    "d = {'whale': 5, 'shark': 3, 'python': 19}\n",
    "print(d['whale'])\n",
    "# print(d['shrimp'])         # shrimp 不存在，报错\n",
    "print(d.get('whale'))\n",
    "print(d.get('shrimp'))       # shrimp 不存在，不报错\n",
    "print(d.get('shrimp', 999))  # shrimp 不存在，返回默认值"
   ]
  },
  {
   "cell_type": "markdown",
   "metadata": {},
   "source": [
    "- 27\\. 函数定义及简单参数传递"
   ]
  },
  {
   "cell_type": "code",
   "execution_count": 42,
   "metadata": {},
   "outputs": [
    {
     "name": "stdout",
     "output_type": "stream",
     "text": [
      "0 1 1 2 3 5 8 13 21 34 55 89 144 233 377 610 987 1597 \n"
     ]
    }
   ],
   "source": [
    "# 斐波那契数列\n",
    "def fib(n):\n",
    "    a, b = 0, 1\n",
    "    while a < n:\n",
    "        print(a, end=' ')\n",
    "        a, b = b, a + b\n",
    "    print()\n",
    "\n",
    "fib(2000)"
   ]
  },
  {
   "cell_type": "markdown",
   "metadata": {},
   "source": [
    "- 28\\. 使用pip工具查看当前已安装的Python扩展库的完整命令`pip list`，安装扩展库命令`pip install`库名。"
   ]
  },
  {
   "cell_type": "code",
   "execution_count": 43,
   "metadata": {},
   "outputs": [
    {
     "name": "stdout",
     "output_type": "stream",
     "text": [
      "Package             Version\n",
      "------------------- -------\n",
      "appnope             0.1.2\n",
      "argon2-cffi         21.1.0\n",
      "attrs               21.2.0\n",
      "autopep8            1.5.7\n",
      "backcall            0.2.0\n",
      "bleach              4.1.0\n",
      "cffi                1.14.6\n",
      "cycler              0.11.0\n",
      "debugpy             1.5.0\n",
      "decorator           5.1.0\n",
      "defusedxml          0.7.1\n",
      "entrypoints         0.3\n",
      "fonttools           4.28.5\n",
      "GDAL                3.3.3\n",
      "ipykernel           6.4.1\n",
      "ipython             7.28.0\n",
      "ipython-genutils    0.2.0\n",
      "jedi                0.18.0\n",
      "jieba               0.42.1\n",
      "Jinja2              3.0.2\n",
      "jsonschema          4.1.0\n",
      "jupyter-client      7.0.6\n",
      "jupyter-core        4.8.1\n",
      "jupyterlab-pygments 0.1.2\n",
      "kiwisolver          1.3.2\n",
      "MarkupSafe          2.0.1\n",
      "matplotlib          3.5.1\n",
      "matplotlib-inline   0.1.3\n",
      "mistune             0.8.4\n",
      "nbclient            0.5.4\n",
      "nbconvert           6.2.0\n",
      "nbformat            5.1.3\n",
      "nest-asyncio        1.5.1\n",
      "notebook            6.4.4\n",
      "numpy               1.21.5\n",
      "packaging           21.0\n",
      "pandas              1.3.5\n",
      "pandocfilters       1.5.0\n",
      "parso               0.8.2\n",
      "pexpect             4.8.0\n",
      "pickleshare         0.7.5\n",
      "Pillow              8.4.0\n",
      "pip                 21.3.1\n",
      "prettytable         2.5.0\n",
      "prometheus-client   0.11.0\n",
      "prompt-toolkit      3.0.20\n",
      "ptyprocess          0.7.0\n",
      "pycodestyle         2.8.0\n",
      "pycparser           2.20\n",
      "pyecharts           1.9.1\n",
      "Pygments            2.10.0\n",
      "pyparsing           2.4.7\n",
      "pyrsistent          0.18.0\n",
      "python-dateutil     2.8.2\n",
      "pytz                2021.3\n",
      "pyzmq               22.3.0\n",
      "Send2Trash          1.8.0\n",
      "setuptools          59.0.1\n",
      "simplejson          3.17.6\n",
      "six                 1.16.0\n",
      "terminado           0.12.1\n",
      "testpath            0.5.0\n",
      "toml                0.10.2\n",
      "tornado             6.1\n",
      "traitlets           5.1.0\n",
      "wcwidth             0.2.5\n",
      "webencodings        0.5.1\n",
      "wheel               0.37.0\n",
      "wordcloud           1.8.1\n",
      "Note: you may need to restart the kernel to use updated packages.\n"
     ]
    }
   ],
   "source": [
    "pip list"
   ]
  },
  {
   "cell_type": "code",
   "execution_count": 44,
   "metadata": {},
   "outputs": [
    {
     "name": "stdout",
     "output_type": "stream",
     "text": [
      "\u001b[33mDEPRECATION: Configuring installation scheme with distutils config files is deprecated and will no longer work in the near future. If you are using a Homebrew or Linuxbrew Python, please see discussion at https://github.com/Homebrew/homebrew-core/issues/76621\u001b[0m\n",
      "Requirement already satisfied: pandas in /usr/local/lib/python3.9/site-packages (1.3.5)\n",
      "Requirement already satisfied: pytz>=2017.3 in /usr/local/lib/python3.9/site-packages (from pandas) (2021.3)\n",
      "Requirement already satisfied: python-dateutil>=2.7.3 in /usr/local/lib/python3.9/site-packages (from pandas) (2.8.2)\n",
      "Requirement already satisfied: numpy>=1.17.3 in /usr/local/lib/python3.9/site-packages (from pandas) (1.21.5)\n",
      "Requirement already satisfied: six>=1.5 in /usr/local/lib/python3.9/site-packages (from python-dateutil>=2.7.3->pandas) (1.16.0)\n",
      "Note: you may need to restart the kernel to use updated packages.\n"
     ]
    }
   ],
   "source": [
    "pip install pandas"
   ]
  },
  {
   "cell_type": "markdown",
   "metadata": {},
   "source": [
    "- 29\\. 文件打开模式\n",
    "  - `r` - 读模式\n",
    "  - `w` - 写模式\n",
    "  - `a` - 追加模式\n",
    "- 30\\. 读文本文件的方法\n",
    "  - `read()` - 打开 file 并返回对应的 file object。\n",
    "  - `readlines()` - 从流中读取并返回包含多行的列表。\n",
    "  - 对文件对象的迭代默认情况是`readlines()`\n",
    "    - 请注意使用 `for line in file: ...` 就足够对文件对象进行迭代了，可以不必调用 `file.readlines()`。\n",
    "- 31\\. 写文本文件的方法：`writelines()`"
   ]
  },
  {
   "cell_type": "code",
   "execution_count": 45,
   "metadata": {},
   "outputs": [
    {
     "name": "stdout",
     "output_type": "stream",
     "text": [
      "line 1 - 常记溪亭日暮, 沉醉不知归路。\n",
      "line 2 - 兴尽晚回舟, 误入藕花深处。\n",
      "line 3 - 争渡, 争渡, 惊起一滩鸥鹭。\n",
      "\n",
      "line 1 - 常记溪亭日暮, 沉醉不知归路。\n",
      "line 2 - 兴尽晚回舟, 误入藕花深处。\n",
      "line 3 - 争渡, 争渡, 惊起一滩鸥鹭。\n",
      "\n",
      "True\n"
     ]
    }
   ],
   "source": [
    "# 打开文件的两种方式\n",
    "# 1 - open() 函数，需要 close() 函数配合关闭文件\n",
    "f = open('./files/test.txt', 'r', encoding = 'utf8')\n",
    "print(f.read())\n",
    "f.close()\n",
    "\n",
    "# 2 - `with open` 语法确保文件一定会关闭\n",
    "with open('./files/test.txt', 'r', encoding='utf8') as f:\n",
    "    print(f.read())\n",
    "print(f.closed)"
   ]
  },
  {
   "cell_type": "markdown",
   "metadata": {},
   "source": [
    "- 第14周的例子"
   ]
  },
  {
   "cell_type": "code",
   "execution_count": 46,
   "metadata": {},
   "outputs": [
    {
     "name": "stdout",
     "output_type": "stream",
     "text": [
      "read() 方法的结果.....\n",
      "<class 'str'>\n",
      "line 1 - 常记溪亭日暮, 沉醉不知归路。\n",
      "line 2 - 兴尽晚回舟, 误入藕花深处。\n",
      "line 3 - 争渡, 争渡, 惊起一滩鸥鹭。\n",
      "\n",
      "readline() 方法的结果.....\n",
      "<class 'str'>\n",
      "line 2 - 兴尽晚回舟, 误入藕花深处。\n",
      "\n",
      "以列表方式读入数据\n",
      "<class 'list'>\n",
      "['line 1 - 常记溪亭日暮, 沉醉不知归路。\\n', 'line 2 - 兴尽晚回舟, 误入藕花深处。\\n', 'line 3 - 争渡, 争渡, 惊起一滩鸥鹭。\\n']\n",
      "3\n"
     ]
    }
   ],
   "source": [
    "with open('./files/test.txt', 'r') as file1:  # 上下文管理器\n",
    "    # 一次性读取整个文件\n",
    "    print(\"read() 方法的结果.....\")\n",
    "    print(type(file1.read()))\n",
    "    file1.seek(0)  # 将文件定位于文件头 1代表当前位置 ，2代表文件结尾\n",
    "    print(file1.read())\n",
    "\n",
    "    # 按行读取文件\n",
    "    print(\"readline() 方法的结果.....\")\n",
    "    file1.seek(0)\n",
    "    print(type(file1.readline()))\n",
    "    print(file1.readline())\n",
    "\n",
    "    # 以列表方式读入数据\n",
    "    print(\"以列表方式读入数据\")\n",
    "    file1.seek(0)\n",
    "    lines = file1.readlines()\n",
    "    print(type(lines))\n",
    "    print(lines)\n",
    "    print(len(lines))"
   ]
  },
  {
   "cell_type": "markdown",
   "metadata": {},
   "source": [
    "- 迭代文件 - 对文件对象的迭代默认情况是`readlines()`。"
   ]
  },
  {
   "cell_type": "code",
   "execution_count": 47,
   "metadata": {},
   "outputs": [
    {
     "name": "stdout",
     "output_type": "stream",
     "text": [
      "line 1 - 常记溪亭日暮, 沉醉不知归路。\n",
      "line 2 - 兴尽晚回舟, 误入藕花深处。\n",
      "line 3 - 争渡, 争渡, 惊起一滩鸥鹭。\n"
     ]
    }
   ],
   "source": [
    "with open('./files/test.txt', 'r') as f:\n",
    "    for line in f:\n",
    "        print(line, end = '')"
   ]
  },
  {
   "cell_type": "markdown",
   "metadata": {},
   "source": [
    "- 写文件"
   ]
  },
  {
   "cell_type": "code",
   "execution_count": 48,
   "metadata": {},
   "outputs": [
    {
     "name": "stdout",
     "output_type": "stream",
     "text": [
      "《盗梦空间》《无间道》《活着》《2046》\n",
      "《重慶森林》\n",
      "《花樣年華》\n"
     ]
    }
   ],
   "source": [
    "import random\n",
    "import string\n",
    "import os\n",
    "\n",
    "# 创建一个临时文件\n",
    "filename = ''.join(random.choices(string.ascii_uppercase + string.digits, k=8)) + '.txt'\n",
    "f = open(filename, 'x')\n",
    "f.close()\n",
    "\n",
    "# writelines() - 注意换行符\n",
    "with open(filename, 'w') as f:\n",
    "    f.writelines(['《盗梦空间》', '《无间道》', '《活着》'])\n",
    "    f.writelines(['《2046》\\n', '《重慶森林》\\n', '《花樣年華》\\n'])\n",
    "\n",
    "with open(filename, 'r') as f:\n",
    "    for line in f:\n",
    "        print(line, end = '')\n",
    "\n",
    "# 删除临时文件\n",
    "os.remove(filename)"
   ]
  },
  {
   "cell_type": "markdown",
   "metadata": {},
   "source": [
    "- 32\\. CSV库，json库读写文件操作的基本语法"
   ]
  },
  {
   "cell_type": "code",
   "execution_count": 49,
   "metadata": {},
   "outputs": [
    {
     "name": "stdout",
     "output_type": "stream",
     "text": [
      "['佛山,101.5,120.7,121.4\\n', '江门,101.5,120.7,121.4\\n']\n",
      "======使用csv读取文件\n",
      "[['佛山', '101.5', '120.7', '121.4'], ['江门', '101.5', '120.7', '121.4']]\n"
     ]
    }
   ],
   "source": [
    "# 方法1 按文本方式读取csv文件\n",
    "with open('./files/test.csv', 'r', encoding='utf-8') as fp:\n",
    "    print(fp.readlines())\n",
    "\n",
    "# 方法2 用CSV模块来读取csv文件\n",
    "import csv\n",
    "\n",
    "print(\"======使用csv读取文件\")\n",
    "with open('./files/test.csv', 'r', encoding='utf-8') as fp:\n",
    "    reader = csv.reader(fp)\n",
    "    aList = list(reader)\n",
    "    print(aList)\n",
    "\n",
    "# 用CSV模块来写csv文件\n",
    "blist = [['佛山', '101.5', '120.7', '121.4'], ['江门', '101.5', '120.7', '121.4']]\n",
    "with open('./files/test.csv', 'a+') as f:\n",
    "    writer = csv.writer(f, lineterminator='\\n')\n",
    "    for item in blist:\n",
    "        writer.writerow(item)"
   ]
  },
  {
   "cell_type": "code",
   "execution_count": 50,
   "metadata": {},
   "outputs": [
    {
     "name": "stdout",
     "output_type": "stream",
     "text": [
      "<class 'list'>\n",
      "13\n",
      "{'aqi': 47, 'area': '北京', 'pm2_5': 32, 'pm2_5_24h': 33, 'position_name': '万寿西宫', 'primary_pollutant': None, 'quality': '优', 'station_code': '1001A', 'time_point': '2017-07-29T14:00:00Z'}\n"
     ]
    }
   ],
   "source": [
    "import json\n",
    "\n",
    "with open('./files/beijing_aqi.json', 'r', encoding='utf-8') as fp:\n",
    "    cityList = json.load(fp)\n",
    "    print(type(cityList))\n",
    "    print(len(cityList))\n",
    "    print(cityList[0])\n",
    "    \"\"\"1 使用列表对象本身来进行排序\"\"\"\n",
    "    # cityList.sort(key = lambda  x:x['aqi'])\n",
    "    # print(cityList)\n",
    "    \"\"\"2 使用内置函数sorted进行排序\"\"\"\n",
    "    sortedAQI = sorted(cityList, key=lambda x: x['aqi'])\n",
    "\n",
    "    with open('./files/aqi_top5.json', 'w', encoding='utf-8') as fp2:\n",
    "        json.dump(sortedAQI[:5], fp2, ensure_ascii=False, indent=8)"
   ]
  },
  {
   "cell_type": "markdown",
   "metadata": {},
   "source": [
    "- 33\\. 上下文管理器的应用\n",
    "  - `with open() as f:` - 参见 29-31 知识点代码"
   ]
  },
  {
   "cell_type": "markdown",
   "metadata": {},
   "source": [
    "- 34\\. 第三方库random的方法：`randint()`"
   ]
  },
  {
   "cell_type": "code",
   "execution_count": 51,
   "metadata": {},
   "outputs": [
    {
     "name": "stdout",
     "output_type": "stream",
     "text": [
      "9 9\n"
     ]
    }
   ],
   "source": [
    "import random\n",
    "random.seed(5)\n",
    "x = random.randint(0, 9)  # 唯一的闭区间[0, 9]\n",
    "random.seed(5)            # 同样的seed\n",
    "y = random.randint(0, 9)  # 得到同样的随机数\n",
    "print(x, y)"
   ]
  },
  {
   "cell_type": "code",
   "execution_count": 52,
   "metadata": {},
   "outputs": [
    {
     "name": "stdout",
     "output_type": "stream",
     "text": [
      "['3', '4', 'K', 'Q', 'J', '2', '7', '8', 'A', '9', '6', '5']\n",
      "['9', 'K', '6', '2', '3', '5', 'J', '4', 'A', '7', 'Q', '8']\n"
     ]
    }
   ],
   "source": [
    "import random\n",
    "cards = list('A23456789JQK')\n",
    "random.shuffle(cards)\n",
    "print(cards)\n",
    "random.shuffle(cards)\n",
    "print(cards)"
   ]
  },
  {
   "cell_type": "markdown",
   "metadata": {},
   "source": [
    "- 35\\. 可视化：绘制饼图、直方图、多种折线图、散点图"
   ]
  },
  {
   "cell_type": "code",
   "execution_count": 53,
   "metadata": {},
   "outputs": [],
   "source": [
    "# TODO"
   ]
  },
  {
   "cell_type": "markdown",
   "metadata": {},
   "source": [
    "## 题型\n",
    "\n",
    "所有选择题和判断题均出自砺儒云平台的课前、课后测试题，只有个别题目做了适当修改\n",
    "\n",
    "| #   | 题型                 | 分数 |\n",
    "| --- | -------------------- | ---- |\n",
    "| 1   | 选择题               | 10x2 |\n",
    "| 2   | 判断题               | 15x1 |\n",
    "| 3   | 程序分析题           | 5x5  |\n",
    "| 4   | 应用题（程序填空）   | 10x2 |\n",
    "| 5   | 思维提升题（问答题） | 2x5  |\n",
    "| 6   | 应用创新题（编程题） | 1x10 |"
   ]
  }
 ],
 "metadata": {
  "interpreter": {
   "hash": "aee8b7b246df8f9039afb4144a1f6fd8d2ca17a180786b69acc140d282b71a49"
  },
  "kernelspec": {
   "display_name": "Python 3.9.9 64-bit",
   "language": "python",
   "name": "python3"
  },
  "language_info": {
   "codemirror_mode": {
    "name": "ipython",
    "version": 3
   },
   "file_extension": ".py",
   "mimetype": "text/x-python",
   "name": "python",
   "nbconvert_exporter": "python",
   "pygments_lexer": "ipython3",
   "version": "3.9.9"
  },
  "orig_nbformat": 4
 },
 "nbformat": 4,
 "nbformat_minor": 2
}
